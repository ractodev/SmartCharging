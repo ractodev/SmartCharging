{
 "cells": [
  {
   "cell_type": "code",
   "execution_count": 3,
   "metadata": {},
   "outputs": [],
   "source": [
    "import pandas as pd\n",
    "import numpy as np\n",
    "import math\n",
    "from datetime import datetime, date"
   ]
  },
  {
   "cell_type": "markdown",
   "metadata": {},
   "source": [
    "# 1. Create"
   ]
  },
  {
   "cell_type": "markdown",
   "metadata": {},
   "source": [
    "### 1.1 Create from a CSV"
   ]
  },
  {
   "cell_type": "code",
   "execution_count": 75,
   "metadata": {},
   "outputs": [
    {
     "name": "stdout",
     "output_type": "stream",
     "text": [
      "2021-11-03 00:00:00\n",
      "2021-11-09 23:50:00\n"
     ]
    }
   ],
   "source": [
    "df = pd.read_csv('assets/data.csv')\n",
    "format = \"%Y-%m-%d %I:%M %p\"\n",
    "# df['Interval'][1]\n",
    "df['Interval'] = df['Interval'].apply(lambda x: datetime.strptime(x, format))\n",
    "df['Interval (UTC)'] = df['Interval (UTC)'].apply(lambda x: datetime.strptime(x, format))\n",
    "print(pd.Series.min(df['Interval']))\n",
    "print(pd.Series.max(df['Interval']))"
   ]
  },
  {
   "cell_type": "markdown",
   "metadata": {},
   "source": [
    "### 1.2 Clean data points "
   ]
  },
  {
   "cell_type": "code",
   "execution_count": 76,
   "metadata": {},
   "outputs": [
    {
     "name": "stdout",
     "output_type": "stream",
     "text": [
      "nan\n",
      "col 3 row 1 val0   NaN\n",
      "Name: ams-a-control-in-stateOfCharge/AvgValue.avg, dtype: float64\n",
      "nan\n",
      "col 4 row 1 val0   NaN\n",
      "Name: ams-a-control-in-stateOfCharge/AvgValue.min, dtype: float64\n",
      "nan\n",
      "col 5 row 1 val0   NaN\n",
      "Name: ams-a-control-in-stateOfCharge/AvgValue.max, dtype: float64\n",
      "0.0\n",
      "0.0\n",
      "0.0\n",
      "1.0\n",
      "0.0\n",
      "0.0\n",
      "0.0\n",
      "0.0\n",
      "0.0\n",
      "0.0\n",
      "0.0\n",
      "0.0\n",
      "0.0\n",
      "0.0\n",
      "0.0\n",
      "0.0\n",
      "0.0\n",
      "0.0\n",
      "0.0\n",
      "0.0\n",
      "0.0\n",
      "0.0\n",
      "0.0\n",
      "0.0\n",
      "0.0\n",
      "0.0\n",
      "0.0\n",
      "0.0\n",
      "0.0\n",
      "0.0\n",
      "0.0\n",
      "0.0\n",
      "0.0\n",
      "0.0\n",
      "0.0\n",
      "0.0\n",
      "0.0\n",
      "0.0\n",
      "0.0\n",
      "0.0\n",
      "0.0\n",
      "0.0\n",
      "0.0\n",
      "0.0\n",
      "0.0\n",
      "0.0\n",
      "0.0\n",
      "0.0\n",
      "0.0\n",
      "11005.8960407827\n",
      "10886.4394531\n",
      "11047.6699219\n",
      "0.0\n",
      "0.0\n",
      "0.0\n",
      "0.0\n",
      "0.0\n",
      "0.0\n",
      "0.0\n",
      "0.0\n",
      "0.0\n",
      "0.0\n",
      "0.0\n",
      "0.0\n",
      "0.0\n",
      "0.0\n",
      "0.0\n",
      "0.0\n",
      "0.0\n",
      "0.0\n",
      "0.0\n",
      "0.0\n",
      "0.0\n",
      "0.0\n",
      "0.0\n",
      "0.0\n",
      "0.0\n",
      "0.0\n",
      "0.0\n",
      "0.0\n",
      "0.0\n",
      "0.0\n",
      "0.0\n",
      "0.0\n",
      "0.0\n",
      "0.0\n",
      "0.0\n",
      "0.0\n",
      "0.0\n",
      "0.0\n",
      "0.0\n",
      "0.0\n",
      "0.0\n",
      "0.0\n",
      "0.0\n",
      "0.0\n",
      "0.0\n",
      "1.0\n",
      "1.0\n",
      "1.0\n"
     ]
    },
    {
     "name": "stderr",
     "output_type": "stream",
     "text": [
      "<ipython-input-76-1580041c4e1d>:30: SettingWithCopyWarning: \n",
      "A value is trying to be set on a copy of a slice from a DataFrame\n",
      "\n",
      "See the caveats in the documentation: https://pandas.pydata.org/pandas-docs/stable/user_guide/indexing.html#returning-a-view-versus-a-copy\n",
      "  df.iloc[:, i][0:j] = df.iloc[:, i][j]\n"
     ]
    },
    {
     "data": {
      "text/html": [
       "<div>\n",
       "<style scoped>\n",
       "    .dataframe tbody tr th:only-of-type {\n",
       "        vertical-align: middle;\n",
       "    }\n",
       "\n",
       "    .dataframe tbody tr th {\n",
       "        vertical-align: top;\n",
       "    }\n",
       "\n",
       "    .dataframe thead th {\n",
       "        text-align: right;\n",
       "    }\n",
       "</style>\n",
       "<table border=\"1\" class=\"dataframe\">\n",
       "  <thead>\n",
       "    <tr style=\"text-align: right;\">\n",
       "      <th></th>\n",
       "      <th>Interval</th>\n",
       "      <th>Interval (UTC)</th>\n",
       "      <th>ams-a-control-out-control/AvgValue.value (raw data)</th>\n",
       "      <th>ams-a-control-in-stateOfCharge/AvgValue.avg</th>\n",
       "      <th>ams-a-control-in-stateOfCharge/AvgValue.min</th>\n",
       "      <th>ams-a-control-in-stateOfCharge/AvgValue.max</th>\n",
       "      <th>ams-a-bat-ew/AvgValue.avg</th>\n",
       "      <th>ams-a-bat-ew/AvgValue.min</th>\n",
       "      <th>ams-a-bat-ew/AvgValue.max</th>\n",
       "      <th>numberOfConnectedVehicles/numConnVehicles.numConnVehicles</th>\n",
       "      <th>...</th>\n",
       "      <th>ams-a-chrg-6-0-VehicleConnected/AvgValue.max</th>\n",
       "      <th>ams-a-chrg-6-1-VehicleConnected/AvgValue.avg</th>\n",
       "      <th>ams-a-chrg-6-1-VehicleConnected/AvgValue.min</th>\n",
       "      <th>ams-a-chrg-6-1-VehicleConnected/AvgValue.max</th>\n",
       "      <th>ams-a-chrg-7-0-VehicleConnected/AvgValue.avg</th>\n",
       "      <th>ams-a-chrg-7-0-VehicleConnected/AvgValue.min</th>\n",
       "      <th>ams-a-chrg-7-0-VehicleConnected/AvgValue.max</th>\n",
       "      <th>ams-a-chrg-7-1-VehicleConnected/AvgValue.avg</th>\n",
       "      <th>ams-a-chrg-7-1-VehicleConnected/AvgValue.min</th>\n",
       "      <th>ams-a-chrg-7-1-VehicleConnected/AvgValue.max</th>\n",
       "    </tr>\n",
       "  </thead>\n",
       "  <tbody>\n",
       "    <tr>\n",
       "      <th>0</th>\n",
       "      <td>2021-11-03 00:00:00</td>\n",
       "      <td>2021-11-02 23:00:00</td>\n",
       "      <td>NaN</td>\n",
       "      <td>0.936300</td>\n",
       "      <td>0.9363</td>\n",
       "      <td>0.936300</td>\n",
       "      <td>0.0</td>\n",
       "      <td>0.0</td>\n",
       "      <td>0.0</td>\n",
       "      <td>1.0</td>\n",
       "      <td>...</td>\n",
       "      <td>0.0</td>\n",
       "      <td>0.0</td>\n",
       "      <td>0.0</td>\n",
       "      <td>0.0</td>\n",
       "      <td>0.0</td>\n",
       "      <td>0.0</td>\n",
       "      <td>0.0</td>\n",
       "      <td>1.0</td>\n",
       "      <td>1.0</td>\n",
       "      <td>1.0</td>\n",
       "    </tr>\n",
       "    <tr>\n",
       "      <th>1</th>\n",
       "      <td>2021-11-03 00:10:00</td>\n",
       "      <td>2021-11-02 23:10:00</td>\n",
       "      <td>NaN</td>\n",
       "      <td>0.936300</td>\n",
       "      <td>0.9363</td>\n",
       "      <td>0.936300</td>\n",
       "      <td>0.0</td>\n",
       "      <td>0.0</td>\n",
       "      <td>0.0</td>\n",
       "      <td>1.0</td>\n",
       "      <td>...</td>\n",
       "      <td>0.0</td>\n",
       "      <td>0.0</td>\n",
       "      <td>0.0</td>\n",
       "      <td>0.0</td>\n",
       "      <td>0.0</td>\n",
       "      <td>0.0</td>\n",
       "      <td>0.0</td>\n",
       "      <td>1.0</td>\n",
       "      <td>1.0</td>\n",
       "      <td>1.0</td>\n",
       "    </tr>\n",
       "    <tr>\n",
       "      <th>2</th>\n",
       "      <td>2021-11-03 00:20:00</td>\n",
       "      <td>2021-11-02 23:20:00</td>\n",
       "      <td>NaN</td>\n",
       "      <td>0.936225</td>\n",
       "      <td>0.9362</td>\n",
       "      <td>0.936250</td>\n",
       "      <td>0.0</td>\n",
       "      <td>0.0</td>\n",
       "      <td>0.0</td>\n",
       "      <td>1.0</td>\n",
       "      <td>...</td>\n",
       "      <td>0.0</td>\n",
       "      <td>0.0</td>\n",
       "      <td>0.0</td>\n",
       "      <td>0.0</td>\n",
       "      <td>0.0</td>\n",
       "      <td>0.0</td>\n",
       "      <td>0.0</td>\n",
       "      <td>1.0</td>\n",
       "      <td>1.0</td>\n",
       "      <td>1.0</td>\n",
       "    </tr>\n",
       "    <tr>\n",
       "      <th>3</th>\n",
       "      <td>2021-11-03 00:30:00</td>\n",
       "      <td>2021-11-02 23:30:00</td>\n",
       "      <td>NaN</td>\n",
       "      <td>0.936150</td>\n",
       "      <td>0.9361</td>\n",
       "      <td>0.936200</td>\n",
       "      <td>0.0</td>\n",
       "      <td>0.0</td>\n",
       "      <td>0.0</td>\n",
       "      <td>1.0</td>\n",
       "      <td>...</td>\n",
       "      <td>0.0</td>\n",
       "      <td>0.0</td>\n",
       "      <td>0.0</td>\n",
       "      <td>0.0</td>\n",
       "      <td>0.0</td>\n",
       "      <td>0.0</td>\n",
       "      <td>0.0</td>\n",
       "      <td>1.0</td>\n",
       "      <td>1.0</td>\n",
       "      <td>1.0</td>\n",
       "    </tr>\n",
       "    <tr>\n",
       "      <th>4</th>\n",
       "      <td>2021-11-03 00:40:00</td>\n",
       "      <td>2021-11-02 23:40:00</td>\n",
       "      <td>NaN</td>\n",
       "      <td>0.936050</td>\n",
       "      <td>0.9360</td>\n",
       "      <td>0.936100</td>\n",
       "      <td>0.0</td>\n",
       "      <td>0.0</td>\n",
       "      <td>0.0</td>\n",
       "      <td>1.0</td>\n",
       "      <td>...</td>\n",
       "      <td>0.0</td>\n",
       "      <td>0.0</td>\n",
       "      <td>0.0</td>\n",
       "      <td>0.0</td>\n",
       "      <td>0.0</td>\n",
       "      <td>0.0</td>\n",
       "      <td>0.0</td>\n",
       "      <td>1.0</td>\n",
       "      <td>1.0</td>\n",
       "      <td>1.0</td>\n",
       "    </tr>\n",
       "    <tr>\n",
       "      <th>...</th>\n",
       "      <td>...</td>\n",
       "      <td>...</td>\n",
       "      <td>...</td>\n",
       "      <td>...</td>\n",
       "      <td>...</td>\n",
       "      <td>...</td>\n",
       "      <td>...</td>\n",
       "      <td>...</td>\n",
       "      <td>...</td>\n",
       "      <td>...</td>\n",
       "      <td>...</td>\n",
       "      <td>...</td>\n",
       "      <td>...</td>\n",
       "      <td>...</td>\n",
       "      <td>...</td>\n",
       "      <td>...</td>\n",
       "      <td>...</td>\n",
       "      <td>...</td>\n",
       "      <td>...</td>\n",
       "      <td>...</td>\n",
       "      <td>...</td>\n",
       "    </tr>\n",
       "    <tr>\n",
       "      <th>1005</th>\n",
       "      <td>2021-11-09 23:10:00</td>\n",
       "      <td>2021-11-09 22:10:00</td>\n",
       "      <td>NaN</td>\n",
       "      <td>0.948613</td>\n",
       "      <td>0.9476</td>\n",
       "      <td>0.949300</td>\n",
       "      <td>0.0</td>\n",
       "      <td>0.0</td>\n",
       "      <td>0.0</td>\n",
       "      <td>0.0</td>\n",
       "      <td>...</td>\n",
       "      <td>0.0</td>\n",
       "      <td>0.0</td>\n",
       "      <td>0.0</td>\n",
       "      <td>0.0</td>\n",
       "      <td>0.0</td>\n",
       "      <td>0.0</td>\n",
       "      <td>0.0</td>\n",
       "      <td>0.0</td>\n",
       "      <td>0.0</td>\n",
       "      <td>0.0</td>\n",
       "    </tr>\n",
       "    <tr>\n",
       "      <th>1006</th>\n",
       "      <td>2021-11-09 23:20:00</td>\n",
       "      <td>2021-11-09 22:20:00</td>\n",
       "      <td>NaN</td>\n",
       "      <td>0.948791</td>\n",
       "      <td>0.9481</td>\n",
       "      <td>0.949267</td>\n",
       "      <td>0.0</td>\n",
       "      <td>0.0</td>\n",
       "      <td>0.0</td>\n",
       "      <td>0.0</td>\n",
       "      <td>...</td>\n",
       "      <td>0.0</td>\n",
       "      <td>0.0</td>\n",
       "      <td>0.0</td>\n",
       "      <td>0.0</td>\n",
       "      <td>0.0</td>\n",
       "      <td>0.0</td>\n",
       "      <td>0.0</td>\n",
       "      <td>0.0</td>\n",
       "      <td>0.0</td>\n",
       "      <td>0.0</td>\n",
       "    </tr>\n",
       "    <tr>\n",
       "      <th>1007</th>\n",
       "      <td>2021-11-09 23:30:00</td>\n",
       "      <td>2021-11-09 22:30:00</td>\n",
       "      <td>NaN</td>\n",
       "      <td>0.948968</td>\n",
       "      <td>0.9486</td>\n",
       "      <td>0.949233</td>\n",
       "      <td>0.0</td>\n",
       "      <td>0.0</td>\n",
       "      <td>0.0</td>\n",
       "      <td>0.0</td>\n",
       "      <td>...</td>\n",
       "      <td>0.0</td>\n",
       "      <td>0.0</td>\n",
       "      <td>0.0</td>\n",
       "      <td>0.0</td>\n",
       "      <td>0.0</td>\n",
       "      <td>0.0</td>\n",
       "      <td>0.0</td>\n",
       "      <td>0.0</td>\n",
       "      <td>0.0</td>\n",
       "      <td>0.0</td>\n",
       "    </tr>\n",
       "    <tr>\n",
       "      <th>1008</th>\n",
       "      <td>2021-11-09 23:40:00</td>\n",
       "      <td>2021-11-09 22:40:00</td>\n",
       "      <td>NaN</td>\n",
       "      <td>0.949145</td>\n",
       "      <td>0.9491</td>\n",
       "      <td>0.949200</td>\n",
       "      <td>0.0</td>\n",
       "      <td>0.0</td>\n",
       "      <td>0.0</td>\n",
       "      <td>0.0</td>\n",
       "      <td>...</td>\n",
       "      <td>0.0</td>\n",
       "      <td>0.0</td>\n",
       "      <td>0.0</td>\n",
       "      <td>0.0</td>\n",
       "      <td>0.0</td>\n",
       "      <td>0.0</td>\n",
       "      <td>0.0</td>\n",
       "      <td>0.0</td>\n",
       "      <td>0.0</td>\n",
       "      <td>0.0</td>\n",
       "    </tr>\n",
       "    <tr>\n",
       "      <th>1009</th>\n",
       "      <td>2021-11-09 23:50:00</td>\n",
       "      <td>2021-11-09 22:50:00</td>\n",
       "      <td>NaN</td>\n",
       "      <td>0.949000</td>\n",
       "      <td>0.9490</td>\n",
       "      <td>0.949000</td>\n",
       "      <td>0.0</td>\n",
       "      <td>0.0</td>\n",
       "      <td>0.0</td>\n",
       "      <td>0.0</td>\n",
       "      <td>...</td>\n",
       "      <td>0.0</td>\n",
       "      <td>0.0</td>\n",
       "      <td>0.0</td>\n",
       "      <td>0.0</td>\n",
       "      <td>0.0</td>\n",
       "      <td>0.0</td>\n",
       "      <td>0.0</td>\n",
       "      <td>0.0</td>\n",
       "      <td>0.0</td>\n",
       "      <td>0.0</td>\n",
       "    </tr>\n",
       "  </tbody>\n",
       "</table>\n",
       "<p>1010 rows × 106 columns</p>\n",
       "</div>"
      ],
      "text/plain": [
       "                Interval      Interval (UTC)  \\\n",
       "0    2021-11-03 00:00:00 2021-11-02 23:00:00   \n",
       "1    2021-11-03 00:10:00 2021-11-02 23:10:00   \n",
       "2    2021-11-03 00:20:00 2021-11-02 23:20:00   \n",
       "3    2021-11-03 00:30:00 2021-11-02 23:30:00   \n",
       "4    2021-11-03 00:40:00 2021-11-02 23:40:00   \n",
       "...                  ...                 ...   \n",
       "1005 2021-11-09 23:10:00 2021-11-09 22:10:00   \n",
       "1006 2021-11-09 23:20:00 2021-11-09 22:20:00   \n",
       "1007 2021-11-09 23:30:00 2021-11-09 22:30:00   \n",
       "1008 2021-11-09 23:40:00 2021-11-09 22:40:00   \n",
       "1009 2021-11-09 23:50:00 2021-11-09 22:50:00   \n",
       "\n",
       "      ams-a-control-out-control/AvgValue.value (raw data)  \\\n",
       "0                                                   NaN     \n",
       "1                                                   NaN     \n",
       "2                                                   NaN     \n",
       "3                                                   NaN     \n",
       "4                                                   NaN     \n",
       "...                                                 ...     \n",
       "1005                                                NaN     \n",
       "1006                                                NaN     \n",
       "1007                                                NaN     \n",
       "1008                                                NaN     \n",
       "1009                                                NaN     \n",
       "\n",
       "      ams-a-control-in-stateOfCharge/AvgValue.avg  \\\n",
       "0                                        0.936300   \n",
       "1                                        0.936300   \n",
       "2                                        0.936225   \n",
       "3                                        0.936150   \n",
       "4                                        0.936050   \n",
       "...                                           ...   \n",
       "1005                                     0.948613   \n",
       "1006                                     0.948791   \n",
       "1007                                     0.948968   \n",
       "1008                                     0.949145   \n",
       "1009                                     0.949000   \n",
       "\n",
       "      ams-a-control-in-stateOfCharge/AvgValue.min  \\\n",
       "0                                          0.9363   \n",
       "1                                          0.9363   \n",
       "2                                          0.9362   \n",
       "3                                          0.9361   \n",
       "4                                          0.9360   \n",
       "...                                           ...   \n",
       "1005                                       0.9476   \n",
       "1006                                       0.9481   \n",
       "1007                                       0.9486   \n",
       "1008                                       0.9491   \n",
       "1009                                       0.9490   \n",
       "\n",
       "      ams-a-control-in-stateOfCharge/AvgValue.max  ams-a-bat-ew/AvgValue.avg  \\\n",
       "0                                        0.936300                        0.0   \n",
       "1                                        0.936300                        0.0   \n",
       "2                                        0.936250                        0.0   \n",
       "3                                        0.936200                        0.0   \n",
       "4                                        0.936100                        0.0   \n",
       "...                                           ...                        ...   \n",
       "1005                                     0.949300                        0.0   \n",
       "1006                                     0.949267                        0.0   \n",
       "1007                                     0.949233                        0.0   \n",
       "1008                                     0.949200                        0.0   \n",
       "1009                                     0.949000                        0.0   \n",
       "\n",
       "      ams-a-bat-ew/AvgValue.min  ams-a-bat-ew/AvgValue.max  \\\n",
       "0                           0.0                        0.0   \n",
       "1                           0.0                        0.0   \n",
       "2                           0.0                        0.0   \n",
       "3                           0.0                        0.0   \n",
       "4                           0.0                        0.0   \n",
       "...                         ...                        ...   \n",
       "1005                        0.0                        0.0   \n",
       "1006                        0.0                        0.0   \n",
       "1007                        0.0                        0.0   \n",
       "1008                        0.0                        0.0   \n",
       "1009                        0.0                        0.0   \n",
       "\n",
       "      numberOfConnectedVehicles/numConnVehicles.numConnVehicles  ...  \\\n",
       "0                                                   1.0          ...   \n",
       "1                                                   1.0          ...   \n",
       "2                                                   1.0          ...   \n",
       "3                                                   1.0          ...   \n",
       "4                                                   1.0          ...   \n",
       "...                                                 ...          ...   \n",
       "1005                                                0.0          ...   \n",
       "1006                                                0.0          ...   \n",
       "1007                                                0.0          ...   \n",
       "1008                                                0.0          ...   \n",
       "1009                                                0.0          ...   \n",
       "\n",
       "      ams-a-chrg-6-0-VehicleConnected/AvgValue.max  \\\n",
       "0                                              0.0   \n",
       "1                                              0.0   \n",
       "2                                              0.0   \n",
       "3                                              0.0   \n",
       "4                                              0.0   \n",
       "...                                            ...   \n",
       "1005                                           0.0   \n",
       "1006                                           0.0   \n",
       "1007                                           0.0   \n",
       "1008                                           0.0   \n",
       "1009                                           0.0   \n",
       "\n",
       "      ams-a-chrg-6-1-VehicleConnected/AvgValue.avg  \\\n",
       "0                                              0.0   \n",
       "1                                              0.0   \n",
       "2                                              0.0   \n",
       "3                                              0.0   \n",
       "4                                              0.0   \n",
       "...                                            ...   \n",
       "1005                                           0.0   \n",
       "1006                                           0.0   \n",
       "1007                                           0.0   \n",
       "1008                                           0.0   \n",
       "1009                                           0.0   \n",
       "\n",
       "      ams-a-chrg-6-1-VehicleConnected/AvgValue.min  \\\n",
       "0                                              0.0   \n",
       "1                                              0.0   \n",
       "2                                              0.0   \n",
       "3                                              0.0   \n",
       "4                                              0.0   \n",
       "...                                            ...   \n",
       "1005                                           0.0   \n",
       "1006                                           0.0   \n",
       "1007                                           0.0   \n",
       "1008                                           0.0   \n",
       "1009                                           0.0   \n",
       "\n",
       "      ams-a-chrg-6-1-VehicleConnected/AvgValue.max  \\\n",
       "0                                              0.0   \n",
       "1                                              0.0   \n",
       "2                                              0.0   \n",
       "3                                              0.0   \n",
       "4                                              0.0   \n",
       "...                                            ...   \n",
       "1005                                           0.0   \n",
       "1006                                           0.0   \n",
       "1007                                           0.0   \n",
       "1008                                           0.0   \n",
       "1009                                           0.0   \n",
       "\n",
       "      ams-a-chrg-7-0-VehicleConnected/AvgValue.avg  \\\n",
       "0                                              0.0   \n",
       "1                                              0.0   \n",
       "2                                              0.0   \n",
       "3                                              0.0   \n",
       "4                                              0.0   \n",
       "...                                            ...   \n",
       "1005                                           0.0   \n",
       "1006                                           0.0   \n",
       "1007                                           0.0   \n",
       "1008                                           0.0   \n",
       "1009                                           0.0   \n",
       "\n",
       "      ams-a-chrg-7-0-VehicleConnected/AvgValue.min  \\\n",
       "0                                              0.0   \n",
       "1                                              0.0   \n",
       "2                                              0.0   \n",
       "3                                              0.0   \n",
       "4                                              0.0   \n",
       "...                                            ...   \n",
       "1005                                           0.0   \n",
       "1006                                           0.0   \n",
       "1007                                           0.0   \n",
       "1008                                           0.0   \n",
       "1009                                           0.0   \n",
       "\n",
       "      ams-a-chrg-7-0-VehicleConnected/AvgValue.max  \\\n",
       "0                                              0.0   \n",
       "1                                              0.0   \n",
       "2                                              0.0   \n",
       "3                                              0.0   \n",
       "4                                              0.0   \n",
       "...                                            ...   \n",
       "1005                                           0.0   \n",
       "1006                                           0.0   \n",
       "1007                                           0.0   \n",
       "1008                                           0.0   \n",
       "1009                                           0.0   \n",
       "\n",
       "      ams-a-chrg-7-1-VehicleConnected/AvgValue.avg  \\\n",
       "0                                              1.0   \n",
       "1                                              1.0   \n",
       "2                                              1.0   \n",
       "3                                              1.0   \n",
       "4                                              1.0   \n",
       "...                                            ...   \n",
       "1005                                           0.0   \n",
       "1006                                           0.0   \n",
       "1007                                           0.0   \n",
       "1008                                           0.0   \n",
       "1009                                           0.0   \n",
       "\n",
       "      ams-a-chrg-7-1-VehicleConnected/AvgValue.min  \\\n",
       "0                                              1.0   \n",
       "1                                              1.0   \n",
       "2                                              1.0   \n",
       "3                                              1.0   \n",
       "4                                              1.0   \n",
       "...                                            ...   \n",
       "1005                                           0.0   \n",
       "1006                                           0.0   \n",
       "1007                                           0.0   \n",
       "1008                                           0.0   \n",
       "1009                                           0.0   \n",
       "\n",
       "      ams-a-chrg-7-1-VehicleConnected/AvgValue.max  \n",
       "0                                              1.0  \n",
       "1                                              1.0  \n",
       "2                                              1.0  \n",
       "3                                              1.0  \n",
       "4                                              1.0  \n",
       "...                                            ...  \n",
       "1005                                           0.0  \n",
       "1006                                           0.0  \n",
       "1007                                           0.0  \n",
       "1008                                           0.0  \n",
       "1009                                           0.0  \n",
       "\n",
       "[1010 rows x 106 columns]"
      ]
     },
     "metadata": {},
     "output_type": "display_data"
    }
   ],
   "source": [
    "l = len(df)\n",
    "w = len(df.iloc[0])\n",
    "df.iloc[:, 3:] = df.iloc[:, 3:].interpolate(\n",
    "    method='polynomial', order=1, axis=0)\n",
    "for i in range(3, w):\n",
    "    j = 0\n",
    "    print(df.iloc[:, i][j])\n",
    "    while np.isnan(df.iloc[:, i][j]):\n",
    "        j += 1\n",
    "    if j != 0:\n",
    "        print(\"col \"+ str(i) + \" row \" + str(j) + \" val\" +str(df.iloc[:, i][0:j]))\n",
    "        df.iloc[:, i][0:j] = df.iloc[:, i][j]\n",
    "# df.to_csv('output.csv')\n"
   ]
  },
  {
   "cell_type": "markdown",
   "metadata": {},
   "source": [
    "### 2.1 Show Top 5 and Bottom 5 Rows"
   ]
  },
  {
   "cell_type": "code",
   "execution_count": null,
   "metadata": {},
   "outputs": [],
   "source": [
    "df.head(10)"
   ]
  },
  {
   "cell_type": "code",
   "execution_count": null,
   "metadata": {},
   "outputs": [],
   "source": [
    "df.tail(15)"
   ]
  },
  {
   "cell_type": "markdown",
   "metadata": {},
   "source": [
    "### 2.2 Show Columns and Data Type"
   ]
  },
  {
   "cell_type": "code",
   "execution_count": null,
   "metadata": {},
   "outputs": [],
   "source": [
    "df.columns"
   ]
  },
  {
   "cell_type": "code",
   "execution_count": null,
   "metadata": {},
   "outputs": [],
   "source": [
    "df.dtypes"
   ]
  },
  {
   "cell_type": "markdown",
   "metadata": {},
   "source": [
    "### 2.3 Summary Statistics"
   ]
  },
  {
   "cell_type": "code",
   "execution_count": null,
   "metadata": {},
   "outputs": [],
   "source": [
    "df.describe()"
   ]
  },
  {
   "cell_type": "code",
   "execution_count": null,
   "metadata": {},
   "outputs": [],
   "source": [
    "df.describe(include='object')"
   ]
  },
  {
   "cell_type": "markdown",
   "metadata": {},
   "source": [
    "### 2.4 Filtering Columns"
   ]
  },
  {
   "cell_type": "code",
   "execution_count": null,
   "metadata": {},
   "outputs": [],
   "source": [
    "df[\"ams-a-control-in-stateOfCharge/AvgValue.avg\"]"
   ]
  },
  {
   "cell_type": "code",
   "execution_count": null,
   "metadata": {},
   "outputs": [],
   "source": [
    "df['Interval']"
   ]
  },
  {
   "cell_type": "code",
   "execution_count": null,
   "metadata": {},
   "outputs": [],
   "source": [
    "df[['ams-a-control-in-stateOfCharge/AvgValue.avg', 'ams-a-bat-ew/AvgValue.avg']]"
   ]
  },
  {
   "cell_type": "code",
   "execution_count": null,
   "metadata": {},
   "outputs": [],
   "source": [
    "len(df[\"Interval\"].unique())"
   ]
  },
  {
   "cell_type": "markdown",
   "metadata": {},
   "source": [
    "### 2.5 Filtering on Rows"
   ]
  },
  {
   "cell_type": "code",
   "execution_count": null,
   "metadata": {},
   "outputs": [],
   "source": [
    "df.head()"
   ]
  },
  {
   "cell_type": "code",
   "execution_count": null,
   "metadata": {},
   "outputs": [],
   "source": [
    "df[~pd.isna(df['ams-a-control-in-stateOfCharge/AvgValue.avg'])]"
   ]
  },
  {
   "cell_type": "code",
   "execution_count": null,
   "metadata": {},
   "outputs": [],
   "source": [
    "start_date = datetime.strptime(\"2021-11-03 12:00 AM\", format)\n",
    "end_date = datetime.strptime(\"2021-11-03 11:50 PM\", format)\n",
    "mask = (df['Interval'] > start_date) & (df['Interval'] <= end_date)\n",
    "df_within_dates = df.loc[mask]\n",
    "df_within_dates['Interval']"
   ]
  },
  {
   "cell_type": "markdown",
   "metadata": {},
   "source": [
    "### 2.6 Indexing with iloc"
   ]
  },
  {
   "cell_type": "code",
   "execution_count": 56,
   "metadata": {},
   "outputs": [
    {
     "name": "stdout",
     "output_type": "stream",
     "text": [
      "0     0.936225\n",
      "1     0.936300\n",
      "2     0.936225\n",
      "3     0.936150\n",
      "4     0.936050\n",
      "5     0.935950\n",
      "6     0.935800\n",
      "7     0.935733\n",
      "8     0.935600\n",
      "9     0.935550\n",
      "10    0.935500\n",
      "11    0.935450\n",
      "12    0.935400\n",
      "13    0.935350\n",
      "Name: ams-a-control-in-stateOfCharge/AvgValue.avg, dtype: float64\n"
     ]
    },
    {
     "data": {
      "text/plain": [
       "Series([], Name: ams-a-control-in-stateOfCharge/AvgValue.avg, dtype: float64)"
      ]
     },
     "execution_count": 56,
     "metadata": {},
     "output_type": "execute_result"
    }
   ],
   "source": [
    "print(df.iloc[0:14,3])\n",
    "df.iloc[14:14,3] = 3\n",
    "df.iloc[14:14,3] "
   ]
  },
  {
   "cell_type": "code",
   "execution_count": 34,
   "metadata": {},
   "outputs": [
    {
     "data": {
      "text/plain": [
       "0.9353"
      ]
     },
     "execution_count": 34,
     "metadata": {},
     "output_type": "execute_result"
    }
   ],
   "source": [
    "df.iloc[14,3]"
   ]
  },
  {
   "cell_type": "code",
   "execution_count": null,
   "metadata": {},
   "outputs": [],
   "source": [
    "df.iloc[22:33]"
   ]
  },
  {
   "cell_type": "code",
   "execution_count": 30,
   "metadata": {},
   "outputs": [
    {
     "data": {
      "text/plain": [
       "1.0"
      ]
     },
     "execution_count": 30,
     "metadata": {},
     "output_type": "execute_result"
    }
   ],
   "source": [
    "select = df.iloc[:, -48::3]\n",
    "select.iloc[0,15]"
   ]
  },
  {
   "cell_type": "code",
   "execution_count": null,
   "metadata": {},
   "outputs": [],
   "source": [
    "for i in range(0,17):\n",
    "    print(i)\n",
    "asd = 1\n",
    "asd2 = 1\n",
    "if asd==0:\n",
    "    print(\"yeah\")\n",
    "else:\n",
    "    print(\"no\")"
   ]
  },
  {
   "cell_type": "markdown",
   "metadata": {},
   "source": [
    "# 3. Update"
   ]
  },
  {
   "cell_type": "markdown",
   "metadata": {},
   "source": [
    "### 3.1 Dropping Rows"
   ]
  },
  {
   "cell_type": "code",
   "execution_count": null,
   "metadata": {},
   "outputs": [],
   "source": [
    "df.isnull().sum()"
   ]
  },
  {
   "cell_type": "code",
   "execution_count": null,
   "metadata": {},
   "outputs": [],
   "source": [
    "df.dropna(inplace=True)"
   ]
  },
  {
   "cell_type": "code",
   "execution_count": null,
   "metadata": {},
   "outputs": [],
   "source": [
    "df.isnull().sum()"
   ]
  },
  {
   "cell_type": "markdown",
   "metadata": {},
   "source": [
    "### 3.3 Creating Calculated Columns"
   ]
  },
  {
   "cell_type": "code",
   "execution_count": null,
   "metadata": {},
   "outputs": [],
   "source": [
    "df['New Column'] = df['ams-a-control-in-stateOfCharge/AvgValue.avg'] + df['ams-a-control-in-stateOfCharge/AvgValue.min']\n",
    "# append at the end"
   ]
  },
  {
   "cell_type": "code",
   "execution_count": null,
   "metadata": {},
   "outputs": [],
   "source": [
    "df.iloc[0, 106]"
   ]
  },
  {
   "cell_type": "markdown",
   "metadata": {},
   "source": [
    "### 3.4 Updating an Entire Column"
   ]
  },
  {
   "cell_type": "code",
   "execution_count": null,
   "metadata": {},
   "outputs": [],
   "source": [
    "df['New Column'] = 100"
   ]
  },
  {
   "cell_type": "code",
   "execution_count": null,
   "metadata": {},
   "outputs": [],
   "source": [
    "df.head()"
   ]
  },
  {
   "cell_type": "markdown",
   "metadata": {},
   "source": [
    "### 3.5 Updating a Single Value"
   ]
  },
  {
   "cell_type": "code",
   "execution_count": null,
   "metadata": {},
   "outputs": [],
   "source": [
    "df.iloc[0,-1] = 10"
   ]
  },
  {
   "cell_type": "code",
   "execution_count": null,
   "metadata": {},
   "outputs": [],
   "source": [
    "df.head()"
   ]
  },
  {
   "cell_type": "markdown",
   "metadata": {},
   "source": [
    "### 3.6 Condition based Updating using Apply"
   ]
  },
  {
   "cell_type": "code",
   "execution_count": null,
   "metadata": {},
   "outputs": [],
   "source": [
    "df['Total_W'] = (df['ams-a-chrg-0-0-3PhaseActivePowW/AvgValue.avg'] + df['ams-a-chrg-0-1-3PhaseActivePowW/AvgValue.avg'] +\n",
    "                 df['ams-a-chrg-1-0-3PhaseActivePowW/AvgValue.avg'] + df['ams-a-chrg-1-1-3PhaseActivePowW/AvgValue.avg'] +\n",
    "                 df['ams-a-chrg-0-1-3PhaseActivePowW/AvgValue.avg'] + df['ams-a-chrg-2-0-3PhaseActivePowW/AvgValue.avg'] +\n",
    "                 df['ams-a-chrg-2-1-3PhaseActivePowW/AvgValue.avg'] + df['ams-a-chrg-0-1-3PhaseActivePowW/AvgValue.avg'] +\n",
    "                 df['ams-a-chrg-3-0-3PhaseActivePowW/AvgValue.avg'] + df['ams-a-chrg-3-1-3PhaseActivePowW/AvgValue.avg'] +\n",
    "                 df['ams-a-chrg-0-1-3PhaseActivePowW/AvgValue.avg'] + df['ams-a-chrg-4-0-3PhaseActivePowW/AvgValue.avg'] +\n",
    "                 df['ams-a-chrg-4-1-3PhaseActivePowW/AvgValue.avg'] + df['ams-a-chrg-0-1-3PhaseActivePowW/AvgValue.avg'] +\n",
    "                 df['ams-a-chrg-5-0-3PhaseActivePowW/AvgValue.avg'] + df['ams-a-chrg-5-1-3PhaseActivePowW/AvgValue.avg'] +\n",
    "                 df['ams-a-chrg-0-1-3PhaseActivePowW/AvgValue.avg'] + df['ams-a-chrg-6-0-3PhaseActivePowW/AvgValue.avg'] +\n",
    "                 df['ams-a-chrg-6-1-3PhaseActivePowW/AvgValue.avg'] + df['ams-a-chrg-0-1-3PhaseActivePowW/AvgValue.avg'] +\n",
    "                 df['ams-a-chrg-7-0-3PhaseActivePowW/AvgValue.avg'] + df['ams-a-chrg-7-1-3PhaseActivePowW/AvgValue.avg'])\n",
    "# df['Churn'].apply(lambda x: 1 if x == True else 0)\n"
   ]
  },
  {
   "cell_type": "code",
   "execution_count": null,
   "metadata": {},
   "outputs": [],
   "source": [
    "df[\"Total_W\"]"
   ]
  },
  {
   "cell_type": "markdown",
   "metadata": {},
   "source": [
    "# 4. Delete/Output"
   ]
  },
  {
   "cell_type": "markdown",
   "metadata": {},
   "source": [
    "### 4.1 Output to CSV"
   ]
  },
  {
   "cell_type": "code",
   "execution_count": null,
   "metadata": {},
   "outputs": [],
   "source": [
    "df.to_csv('output.csv')"
   ]
  },
  {
   "cell_type": "markdown",
   "metadata": {},
   "source": [
    "### 4.2 Output to JSON"
   ]
  },
  {
   "cell_type": "code",
   "execution_count": null,
   "metadata": {},
   "outputs": [],
   "source": [
    "df.to_json()"
   ]
  },
  {
   "cell_type": "markdown",
   "metadata": {},
   "source": [
    "### 4.3 Output to HTML"
   ]
  },
  {
   "cell_type": "code",
   "execution_count": null,
   "metadata": {},
   "outputs": [],
   "source": [
    "df.to_html()"
   ]
  },
  {
   "cell_type": "markdown",
   "metadata": {},
   "source": [
    "### 4.4 Delete a DataFrame"
   ]
  },
  {
   "cell_type": "code",
   "execution_count": null,
   "metadata": {},
   "outputs": [],
   "source": [
    "del df"
   ]
  }
 ],
 "metadata": {
  "kernelspec": {
   "display_name": "Python 3",
   "language": "python",
   "name": "python3"
  },
  "language_info": {
   "codemirror_mode": {
    "name": "ipython",
    "version": 3
   },
   "file_extension": ".py",
   "mimetype": "text/x-python",
   "name": "python",
   "nbconvert_exporter": "python",
   "pygments_lexer": "ipython3",
   "version": "3.8.10"
  }
 },
 "nbformat": 4,
 "nbformat_minor": 2
}
